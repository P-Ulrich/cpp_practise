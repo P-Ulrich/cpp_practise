{
 "cells": [
  {
   "cell_type": "code",
   "execution_count": 1,
   "id": "b51c590b-16a2-4477-b72f-1e0c5d9ee3cf",
   "metadata": {},
   "outputs": [
    {
     "name": "stdout",
     "output_type": "stream",
     "text": [
      "Welcome to JupyROOT 6.30/06\n"
     ]
    }
   ],
   "source": [
    "from ROOT import TFile, TCanvas, TH1, TF1\n"
   ]
  },
  {
   "cell_type": "code",
   "execution_count": 2,
   "id": "1a60a883-74e3-4444-a541-e3beb8930f5e",
   "metadata": {},
   "outputs": [],
   "source": [
    "input_file = TFile(\"/home/pulrich/cpp_practise/Paula/practise01/build/hist.root\", \"read\")\n"
   ]
  },
  {
   "cell_type": "code",
   "execution_count": 3,
   "id": "850dc34f-97db-4d96-b346-e31b46720375",
   "metadata": {},
   "outputs": [],
   "source": [
    "canvas = TCanvas(\"canvas\", \"canvas\", 0, 0, 800, 600)"
   ]
  },
  {
   "cell_type": "markdown",
   "id": "55f0b6c7-2278-4f07-af01-209d8dceec74",
   "metadata": {},
   "source": [
    "# Calculating Pi\n",
    "\n",
    "1. item1\n",
    "2. item2\n",
    "3. item3"
   ]
  },
  {
   "cell_type": "code",
   "execution_count": 4,
   "id": "687fb895-bb31-421a-9338-9e74a78af3b9",
   "metadata": {},
   "outputs": [
    {
     "data": {
      "image/png": "[encoded data removed]",
      "text/plain": [
       "<IPython.core.display.Image object>"
      ]
     },
     "metadata": {},
     "output_type": "display_data"
    }
   ],
   "source": [
    "histogram = input_file.Get(\"h1\")\n",
    "histogram.SetLineColor(6)\n",
    "histogram.SetLineWidth(2)\n",
    "histogram.SetTitle(\"Pi Distribution\")\n",
    "histogram.GetYaxis().SetTitle(\"Counts\") \n",
    "histogram.GetXaxis().SetTitle(\"Value of Pi\") \n",
    "histogram.GetXaxis().SetRangeUser(3.05, 3.25)\n",
    "\n",
    "histogram.Draw()\n",
    "canvas.Draw()\n"
   ]
  },
  {
   "cell_type": "code",
   "execution_count": 8,
   "id": "4d830ae1-b365-491f-a4c9-47a76f103c18",
   "metadata": {},
   "outputs": [
    {
     "name": "stdout",
     "output_type": "stream",
     "text": [
      "****************************************\n",
      "Minimizer is Minuit2 / Migrad\n",
      "Chi2                      =      213.731\n",
      "NDf                       =           28\n",
      "Edm                       =  1.47628e-11\n",
      "NCalls                    =           69\n",
      "Constant                  =        12066   +/-   46.5086     \n",
      "Mean                      =      3.14164   +/-   5.22249e-05 \n",
      "Sigma                     =    0.0164964   +/-   3.62764e-05  \t (limited)\n"
     ]
    },
    {
     "data": {
      "image/png": "[encoded data removed]",
      "text/plain": [
       "<IPython.core.display.Image object>"
      ]
     },
     "metadata": {},
     "output_type": "display_data"
    }
   ],
   "source": [
    "\n",
    "\n",
    "histogram = input_file.Get(\"h1\")\n",
    "histogram.SetLineColor(3)\n",
    "\n",
    "histogram.Draw()\n",
    "\n",
    "gauss_function = TF1(\"gauss_function\", \"gaus\", -10, 10);  # Gauß-Funktion mit Bereich -10 bis 10\n",
    "\n",
    "# Setze Startwerte für die Fit-Parameter (Mittelwert, Sigma, Amplitude)\n",
    "gauss_function.SetParameters(0, 1, 1000)\n",
    "\n",
    "# Führe einen Fit auf das Histogramm aus\n",
    "histogram.Fit(gauss_function, \"R\");\n",
    "\n",
    "# Zeichne die Gauß-Funktion in denselben Canvas\n",
    "gauss_function.Draw(\"same\")\n",
    "\n",
    "# Zeichne das Histogramm und die Gauß-Funktion\n",
    "canvas.Draw()"
   ]
  },
  {
   "cell_type": "code",
   "execution_count": 10,
   "id": "f8034935-20b6-4fcb-93c3-1f4e8c1a3a24",
   "metadata": {},
   "outputs": [
    {
     "name": "stdout",
     "output_type": "stream",
     "text": [
      "Fit Parameter:\n",
      "mean: 3.1416413775581233\n",
      "std Dev: 0.016496384830957576\n",
      "amplitude: 12065.995528507869\n"
     ]
    }
   ],
   "source": [
    "mean = gauss_function.GetParameter(1)   \n",
    "sigma = gauss_function.GetParameter(2)  \n",
    "amplitude = gauss_function.GetParameter(0)  \n",
    "\n",
    "\n",
    "print(\"Fit Parameter:\")\n",
    "print(\"mean:\", mean)\n",
    "print(\"std Dev:\", sigma)\n",
    "print(\"amplitude:\", amplitude)"
   ]
  },
  {
   "cell_type": "code",
   "execution_count": 11,
   "id": "f28253dc-1194-4068-957d-96382e2bbf85",
   "metadata": {},
   "outputs": [
    {
     "name": "stdout",
     "output_type": "stream",
     "text": [
      "ROOT Version: 6.30/06\n",
      "Built for linuxx8664gcc on Apr 05 2024, 13:35:42\n",
      "From heads/master@tags/v6-30-06\n",
      "Python 3.8.16\n",
      "3.8.17\n"
     ]
    }
   ],
   "source": [
    "!root --version\n",
    "!python --version\n",
    "!root-config --python3-version\n"
   ]
  },
  {
   "cell_type": "code",
   "execution_count": 12,
   "id": "46a64432-2e78-47e9-86ab-aeef43fba9d8",
   "metadata": {},
   "outputs": [
    {
     "name": "stdout",
     "output_type": "stream",
     "text": [
      "\n",
      "CondaError: Run 'conda init' before 'conda activate'\n",
      "\n",
      "# conda environments:\n",
      "#\n",
      "base                     /home/pulrich/anaconda3\n",
      "FirstEnv              *  /home/pulrich/anaconda3/envs/FirstEnv\n",
      "\n"
     ]
    }
   ],
   "source": [
    "!conda activate FirstEnv\n",
    "!conda env list\n"
   ]
  },
  {
   "cell_type": "code",
   "execution_count": 4,
   "id": "0f71d1b8-114b-4a33-881e-dfd4e12089c3",
   "metadata": {},
   "outputs": [
    {
     "name": "stdout",
     "output_type": "stream",
     "text": [
      "no change     /home/pulrich/anaconda3/condabin/conda\n",
      "no change     /home/pulrich/anaconda3/bin/conda\n",
      "no change     /home/pulrich/anaconda3/bin/conda-env\n",
      "no change     /home/pulrich/anaconda3/bin/activate\n",
      "no change     /home/pulrich/anaconda3/bin/deactivate\n",
      "no change     /home/pulrich/anaconda3/etc/profile.d/conda.sh\n",
      "no change     /home/pulrich/anaconda3/etc/fish/conf.d/conda.fish\n",
      "no change     /home/pulrich/anaconda3/shell/condabin/Conda.psm1\n",
      "no change     /home/pulrich/anaconda3/shell/condabin/conda-hook.ps1\n",
      "no change     /home/pulrich/anaconda3/lib/python3.11/site-packages/xontrib/conda.xsh\n",
      "no change     /home/pulrich/anaconda3/etc/profile.d/conda.csh\n",
      "no change     /home/pulrich/.zshrc\n",
      "No action taken.\n"
     ]
    }
   ],
   "source": [
    "!conda init zsh\n"
   ]
  },
  {
   "cell_type": "code",
   "execution_count": null,
   "id": "a7fbb454-c82b-46df-a9be-5a4df54bedc3",
   "metadata": {},
   "outputs": [],
   "source": []
  }
 ],
 "metadata": {
  "kernelspec": {
   "display_name": "Python 3 (ipykernel)",
   "language": "python",
   "name": "python3"
  },
  "language_info": {
   "codemirror_mode": {
    "name": "ipython",
    "version": 3
   },
   "file_extension": ".py",
   "mimetype": "text/x-python",
   "name": "python",
   "nbconvert_exporter": "python",
   "pygments_lexer": "ipython3",
   "version": "3.8.16"
  }
 },
 "nbformat": 4,
 "nbformat_minor": 5
}
